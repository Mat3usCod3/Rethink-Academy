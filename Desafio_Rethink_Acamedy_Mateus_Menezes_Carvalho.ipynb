{
 "cells": [
  {
   "cell_type": "markdown",
   "metadata": {},
   "source": [
    "# 🖥️ Resolução do desafio"
   ]
  },
  {
   "cell_type": "markdown",
   "metadata": {},
   "source": [
    "**O contexto**\n",
    "\n",
    "O Detran está com dificuldades com a base dos seus sistemas e precisa de ajuda na parte de cadastro. Em um primeiro momento, eles precisam que seja elaborada uma nova base de cadastros para que o sistema volte a funcionar e não percam nenhum dado.\n",
    "\n",
    "**O case**\n",
    "\n",
    "Agora que você já tem o contexto principal nós queremos saber: como você desenvolveria um código para atender as necessidades desse cliente? "
   ]
  },
  {
   "cell_type": "markdown",
   "metadata": {},
   "source": [
    "Nesse caso precisamos desenvolver um banco de dados, pois, por meio desse, nosso cliente conseguirá cadastrar às informações desejadas sem que aja perdas. \n",
    "\n",
    "Podemos dividir esse projeto em 3 fases:\n",
    "\n",
    "+ **Primeira fase**: Modelagem conceitual;\n",
    "\n",
    "+ **Segunda fase**: Modelagem lógica;\n",
    "\n",
    "+ **Terceira fase**: Modelagem física e implementação;\n",
    "\n",
    "\n",
    "**Fase 01**\n",
    "\n",
    "Inicialmente, precisamos desenvolver um modelo conceitual. Nessa fase, precisamos entender da melhor forma possível às demandas do cliente, para futuramente fazer às devidas implementações. É um modelo de alto nível, onde não preocupamos com os recursos tecnológicos. Precisamos abstrair e entender todas as informações. Nessa fase, também é fundamental compreender as regras de negócio.\n",
    "\n",
    "**Fase 02**\n",
    "\n",
    "Após o desenvolvimento do modelo conceitual, precisamos criar um modelo lógico. Nessa etapa, preocupamos em como e quais informações serão armazenadas no banco de dados, e também, como serão os relacionamentos entre essas informações. Os tipos das informações que serão armazenadas, também são um levantamento muito importante a ser feito.\n",
    "\n",
    "**Fase 03**\n",
    "\n",
    "Na terceira e ultima fase, faremos a implementação do modelo, escolhendo o SGDB que melhor se integra às especificações técnicas e às regras de negócio abordadas nas fases iniciais. Por exemplo, a escolha do SGDB a ser implementado, pode variar de acordo com essas especificações. Os custos, os tipos de informações, o tempo de armazenamento, são alguns exemplos de considerações que são feitas antes de a escolha do SGDB a ser implementado.\n"
   ]
  },
  {
   "cell_type": "markdown",
   "metadata": {},
   "source": [
    "**1)** Você precisa criar um formulário para inserir/exibir os dados abaixo. Esse formulário deverá ser feito nas linguagens HTML/CSS ou React\n",
    "  \n",
    "**Nome**: Gabriel Gomes\n",
    "\n",
    "**Idade**: 25\n",
    "\n",
    "**Profissão**: Programador\n",
    "\n",
    "**Email**: programador@rethink.dev\n",
    "\n",
    "**Telefone**: (31) 9 9999-9999\n",
    "\n",
    "**Data de Preenchimento**:  19/10/2022\n",
    "\n"
   ]
  },
  {
   "cell_type": "markdown",
   "metadata": {},
   "source": [
    "Os arquivos estão presentes neste repositório, e apresentam os seguintes nomes: `form.html` e `style.css`."
   ]
  },
  {
   "cell_type": "markdown",
   "metadata": {},
   "source": [
    "**2)** Com os dados abaixo, precisamos que você os manipule com a linguagem de programação da sua preferência:\n",
    "\n",
    "```javascript\n",
    "\n",
    "const pessoas = [{'nome':\"Fabiana Araújo\", 'age': 33}, \n",
    "                 {'nome':\"Gabriel Gomes\", 'age': 25},\n",
    "                 {'nome':\"Fernando Henrique\", 'age': 17},\n",
    "                 {'nome':\"Ana luiza\", 'age': 2},\n",
    "                 {'nome':\"Geralda do Nascimento\", 'age': 93},\n",
    "                 {'nome':\"Miguel Souza\", 'age': 70},\n",
    "                 {'nome':\"Antonio Miguel\", 'age': 69},\n",
    "            ];\n",
    "```"
   ]
  },
  {
   "cell_type": "code",
   "execution_count": 3,
   "metadata": {},
   "outputs": [
    {
     "name": "stdout",
     "output_type": "stream",
     "text": [
      "[{'nome': 'Fabiana Araújo', 'age': 33}, {'nome': 'Gabriel Gomes', 'age': 25}, {'nome': 'Fernando Henrique', 'age': 17}, {'nome': 'Ana luiza', 'age': 2}, {'nome': 'Geralda do Nascimento', 'age': 93}, {'nome': 'Miguel Souza', 'age': 70}, {'nome': 'Antônio Miguel', 'age': 69}]\n"
     ]
    }
   ],
   "source": [
    "# 🖥️ Desafio 02\n",
    "\n",
    "\n",
    "pessoas = [{'nome':\"Fabiana Araújo\", 'age': 33}, \n",
    "            {'nome':\"Gabriel Gomes\", 'age': 25},\n",
    "            {'nome':\"Fernando Henrique\", 'age': 17},\n",
    "            {'nome':\"Ana luiza\", 'age': 2},\n",
    "            {'nome':\"Geralda do Nascimento\", 'age': 93},\n",
    "            {'nome':\"Miguel Souza\", 'age': 70},\n",
    "            {'nome':\"Antônio Miguel\", 'age': 69}]\n",
    "\n",
    "\n",
    "\n",
    "# ▶️ Run:\n",
    "\n",
    "print(pessoas)            "
   ]
  },
  {
   "cell_type": "markdown",
   "metadata": {},
   "source": [
    "**3)**  Agora que você manipulou os dados, precisamos que desenvolva uma função que retorna os dados de uma pessoa pelo nome passado via parâmetros.\n",
    "\n",
    "Entrada =  \"Gabriel Gomes\"\n",
    "\n",
    "**Retorno esperado:**\n",
    "\n",
    "```javascript\n",
    "\n",
    "{'nome': 'Gabriel Gomes', 'age': 25}\n",
    "\n",
    "```"
   ]
  },
  {
   "cell_type": "code",
   "execution_count": 4,
   "metadata": {},
   "outputs": [
    {
     "name": "stdout",
     "output_type": "stream",
     "text": [
      "{'nome': 'Gabriel Gomes', 'age': 25}\n"
     ]
    }
   ],
   "source": [
    "# 🖥️ Desafio 03\n",
    "\n",
    "\n",
    "def dados_pessoa(nome_pessoa:str, base_dados:list) -> dict or str:\n",
    "\n",
    "    \"\"\"\n",
    "\n",
    "        Retorna os dados completos da pessoa 'nome_pessoa' \n",
    "        \n",
    "        do banco de dados 'base_dados', caso exista.\n",
    "        \n",
    "\n",
    "    \"\"\"\n",
    "\n",
    "    for info in base_dados:\n",
    "        if info['nome']==nome_pessoa:\n",
    "            return info\n",
    "    \n",
    "    return 'Dados não encontrados!'\n",
    "\n",
    "\n",
    "\n",
    "# ▶️ Run:\n",
    "\n",
    "print(dados_pessoa(\"Gabriel Gomes\", pessoas))    "
   ]
  },
  {
   "cell_type": "markdown",
   "metadata": {},
   "source": [
    "**4)** E então, desenvolva uma função que retorna um vetor com os nomes das pessoas. \n",
    "\n",
    "Bônus: Retornar somente o primeiro nome.\n",
    "\n",
    "**Retorno esperado:**\n",
    "\n",
    "\n",
    "```javascript\n",
    "\n",
    "['Gabriel Gomes', 'Fernando Henrique', 'Ana luiza', 'Geralda do Nascimento', 'Miguel Souza', 'Antônio Miguel']\n",
    "\n",
    "```"
   ]
  },
  {
   "cell_type": "code",
   "execution_count": 5,
   "metadata": {},
   "outputs": [
    {
     "name": "stdout",
     "output_type": "stream",
     "text": [
      "['Fabiana', 'Gabriel', 'Fernando', 'Ana', 'Geralda', 'Miguel', 'Antônio']\n"
     ]
    }
   ],
   "source": [
    "# 🖥️ Desafio 04\n",
    "\n",
    "\n",
    "def retorna_nomes(base_dados:list) -> list:\n",
    "    \n",
    "    \n",
    "    \"\"\"\n",
    "\n",
    "        Retorna um vetor somente com os primeiros nomes das pessoas.\n",
    "\n",
    "    \"\"\"\n",
    "\n",
    "    nomes:list = []\n",
    "\n",
    "    for dado in base_dados:\n",
    "        primeiro_nome:str = dado['nome']\n",
    "        primeiro_nome:list = primeiro_nome.split(' ')\n",
    "        nomes.append(primeiro_nome[0])\n",
    "\n",
    "    return nomes\n",
    "\n",
    "\n",
    "\n",
    "# ▶️ Run:       \n",
    "    \n",
    "print(retorna_nomes(pessoas))    "
   ]
  },
  {
   "cell_type": "markdown",
   "metadata": {},
   "source": [
    "**5)** Desenvolva uma função que insira um id único para cada pessoa no vetor \n",
    "\n",
    "Retorno esperado:\n",
    "\n",
    "\n",
    "```javascript\n",
    "[\n",
    "    {id: 1, name: 'Fabiana araújo', age: 33}\n",
    "    {id: 2, name: 'Gabriel Gomes', age: 25}\n",
    "    \n",
    "]\n",
    "\n",
    "```"
   ]
  },
  {
   "cell_type": "code",
   "execution_count": 6,
   "metadata": {},
   "outputs": [
    {
     "name": "stdout",
     "output_type": "stream",
     "text": [
      "[{'nome': 'Fabiana Araújo', 'age': 33, 'id': 1}, {'nome': 'Gabriel Gomes', 'age': 25, 'id': 2}, {'nome': 'Fernando Henrique', 'age': 17, 'id': 3}, {'nome': 'Ana luiza', 'age': 2, 'id': 4}, {'nome': 'Geralda do Nascimento', 'age': 93, 'id': 5}, {'nome': 'Miguel Souza', 'age': 70, 'id': 6}, {'nome': 'Antônio Miguel', 'age': 69, 'id': 7}]\n"
     ]
    }
   ],
   "source": [
    "# 🖥️ Desafio 05\n",
    "\n",
    "\n",
    "def insere_id(base_dados:list) -> list:\n",
    "\n",
    "    \"\"\"\n",
    "\n",
    "        Cria um único identificador para cada pessoa no banco de dados 'base_dados'.\n",
    "    \n",
    "    \"\"\"\n",
    "\n",
    "    for index, info in enumerate(base_dados):       \n",
    "        info[\"id\"] = index + 1\n",
    "\n",
    "    return base_dados\n",
    "\n",
    "\n",
    "\n",
    "\n",
    "# ▶️ Run:\n",
    "\n",
    "print(insere_id(pessoas))"
   ]
  },
  {
   "cell_type": "markdown",
   "metadata": {},
   "source": [
    "**6)** Desenvolva uma função que retorna os dados das pessoas para quem tem idade suficiente para tirar a primeira habilitação."
   ]
  },
  {
   "cell_type": "code",
   "execution_count": 7,
   "metadata": {},
   "outputs": [
    {
     "name": "stdout",
     "output_type": "stream",
     "text": [
      "[{'nome': 'Fabiana Araújo', 'age': 33, 'id': 1}, {'nome': 'Gabriel Gomes', 'age': 25, 'id': 2}, {'nome': 'Geralda do Nascimento', 'age': 93, 'id': 5}, {'nome': 'Miguel Souza', 'age': 70, 'id': 6}, {'nome': 'Antônio Miguel', 'age': 69, 'id': 7}]\n"
     ]
    }
   ],
   "source": [
    "# 🖥️ Desafio 06\n",
    "\n",
    "\n",
    "def habilita(base_dados:list) -> list:\n",
    "\n",
    "    \"\"\"\n",
    "    \n",
    "        Retorna às pessoas com idade suficiente para se habilitar.\n",
    "\n",
    "    \"\"\"\n",
    "    \n",
    "    lista_habilita:list = []\n",
    "\n",
    "    for info in base_dados:\n",
    "        if info['age'] >= 18:\n",
    "            lista_habilita.append(info)\n",
    "        else:\n",
    "            pass\n",
    "\n",
    "    return lista_habilita        \n",
    "\n",
    "\n",
    "\n",
    "# ▶️ Run:\n",
    "\n",
    "print(habilita(pessoas))    "
   ]
  },
  {
   "cell_type": "markdown",
   "metadata": {},
   "source": [
    "**7)** Cria uma função que retorne a média das idades das pessoas."
   ]
  },
  {
   "cell_type": "code",
   "execution_count": 10,
   "metadata": {},
   "outputs": [
    {
     "name": "stdout",
     "output_type": "stream",
     "text": [
      "Média idades = 44\n"
     ]
    }
   ],
   "source": [
    "# 🖥️ Desafio 07\n",
    "\n",
    "\n",
    "def media_idades(base_dados:list) -> int:\n",
    "\n",
    "    \"\"\"\n",
    "        Retorna a média das idades do banco de dados 'base_dados'.\n",
    "    \n",
    "    \"\"\"\n",
    "    \n",
    "    soma:int = 0\n",
    "    conta_idade:int = 0\n",
    "\n",
    "    for info in base_dados:\n",
    "        soma+=info['age']\n",
    "        conta_idade+=1\n",
    "    \n",
    "    return f'Média idades = {soma // conta_idade}'      \n",
    "\n",
    "        \n",
    "\n",
    "# ▶️ Run:\n",
    " \n",
    "print(media_idades(pessoas))"
   ]
  }
 ],
 "metadata": {
  "kernelspec": {
   "display_name": "Python 3.10.6 64-bit",
   "language": "python",
   "name": "python3"
  },
  "language_info": {
   "codemirror_mode": {
    "name": "ipython",
    "version": 3
   },
   "file_extension": ".py",
   "mimetype": "text/x-python",
   "name": "python",
   "nbconvert_exporter": "python",
   "pygments_lexer": "ipython3",
   "version": "3.10.6"
  },
  "orig_nbformat": 4,
  "vscode": {
   "interpreter": {
    "hash": "916dbcbb3f70747c44a77c7bcd40155683ae19c65e1c03b4aa3499c5328201f1"
   }
  }
 },
 "nbformat": 4,
 "nbformat_minor": 2
}
